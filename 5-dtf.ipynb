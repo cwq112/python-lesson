{
 "cells": [
  {
   "cell_type": "code",
   "execution_count": 1,
   "id": "f9847686",
   "metadata": {},
   "outputs": [],
   "source": [
    "import pandas as pd"
   ]
  },
  {
   "cell_type": "code",
   "execution_count": 2,
   "id": "93dae03c",
   "metadata": {},
   "outputs": [],
   "source": [
    "surveys_df = pd.read_csv(\"data/surveys.csv\")"
   ]
  },
  {
   "cell_type": "code",
   "execution_count": 3,
   "id": "229244d5",
   "metadata": {},
   "outputs": [
    {
     "data": {
      "text/plain": [
       "0         2.0\n",
       "1         3.0\n",
       "2         2.0\n",
       "3         7.0\n",
       "4         3.0\n",
       "         ... \n",
       "35544    15.0\n",
       "35545    15.0\n",
       "35546    10.0\n",
       "35547     7.0\n",
       "35548     5.0\n",
       "Name: plot_id, Length: 35549, dtype: float64"
      ]
     },
     "execution_count": 3,
     "metadata": {},
     "output_type": "execute_result"
    }
   ],
   "source": [
    "surveys_df['plot_id'].astype(\"float\")"
   ]
  },
  {
   "cell_type": "code",
   "execution_count": 4,
   "id": "1e77e416",
   "metadata": {},
   "outputs": [],
   "source": [
    "#surveys_df['weight'].astype(\"int\")"
   ]
  },
  {
   "cell_type": "code",
   "execution_count": 5,
   "id": "e932ba57",
   "metadata": {},
   "outputs": [
    {
     "name": "stdout",
     "output_type": "stream",
     "text": [
      "record_id 0\n",
      "month 0\n",
      "day 0\n",
      "year 0\n",
      "plot_id 0\n",
      "species_id 763\n",
      "sex 2511\n",
      "hindfoot_length 4111\n",
      "weight 3266\n"
     ]
    }
   ],
   "source": [
    "for c in surveys_df.columns:\n",
    "    print(c, len(surveys_df[pd.isnull(surveys_df[c])]))"
   ]
  },
  {
   "cell_type": "code",
   "execution_count": null,
   "id": "4cce88d2",
   "metadata": {},
   "outputs": [],
   "source": []
  }
 ],
 "metadata": {
  "kernelspec": {
   "display_name": "Python 3",
   "language": "python",
   "name": "python3"
  },
  "language_info": {
   "codemirror_mode": {
    "name": "ipython",
    "version": 3
   },
   "file_extension": ".py",
   "mimetype": "text/x-python",
   "name": "python",
   "nbconvert_exporter": "python",
   "pygments_lexer": "ipython3",
   "version": "3.10.16"
  }
 },
 "nbformat": 4,
 "nbformat_minor": 5
}
